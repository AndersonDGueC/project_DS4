{
 "cells": [
  {
   "cell_type": "code",
   "execution_count": 1,
   "metadata": {},
   "outputs": [
    {
     "name": "stdout",
     "output_type": "stream",
     "text": [
      "Team 10\n"
     ]
    }
   ],
   "source": [
    "import os\n",
    "import pandas as pd\n",
    "import numpy as np\n",
    "import matplotlib.pyplot as plt \n",
    "import seaborn as sns\n",
    "print(\"Team 10\")"
   ]
  },
  {
   "cell_type": "code",
   "execution_count": null,
   "metadata": {},
   "outputs": [],
   "source": [
    "#DataSet Brazilian Ecommerce\n",
    "# 05- olist_order_items_dataset.csv\n",
    "df_olist_order = pd.read_csv(\"./e-commerce/datasets/brazilian-ecommerce/olist_order_items_dataset.csv\")\n",
    "df_olist_order.head()"
   ]
  },
  {
   "cell_type": "code",
   "execution_count": null,
   "metadata": {},
   "outputs": [],
   "source": [
    "#DataSet Brazilian Ecommerce\n",
    "# 08- olist_orders_dataset.csv\n",
    "df_olist_orders = pd.read_csv(\"./e-commerce/datasets/brazilian-ecommerce/olist_orders_dataset.csv\")\n",
    "df_olist_orders.head()"
   ]
  },
  {
   "cell_type": "code",
   "execution_count": null,
   "metadata": {},
   "outputs": [],
   "source": [
    "x=df_olist_orders['order_status']\n",
    "\n",
    "plt.hist(x, bins=5)\n",
    "plt.xticks(rotation=45)\n",
    "plt.show()"
   ]
  },
  {
   "cell_type": "code",
   "execution_count": null,
   "metadata": {},
   "outputs": [],
   "source": [
    "data_base = df_olist_orders[df_olist_orders['order_status'] == \"delivered\"]\n",
    "data_base.head()"
   ]
  },
  {
   "cell_type": "code",
   "execution_count": null,
   "metadata": {
    "scrolled": false
   },
   "outputs": [],
   "source": [
    "data_base = pd.merge(data_base, df_olist_order[df_olist_order[\"order_item_id\"]==1][[\"order_id\", \"product_id\", \"price\", \"freight_value\"]].drop_duplicates(), on= \"order_id\", how=\"left\")\n",
    "data_base.head()"
   ]
  },
  {
   "cell_type": "code",
   "execution_count": null,
   "metadata": {},
   "outputs": [],
   "source": [
    "data_base.info()"
   ]
  },
  {
   "cell_type": "code",
   "execution_count": null,
   "metadata": {},
   "outputs": [],
   "source": [
    "#DataSet Brazilian Ecommerce\n",
    "# 03- olist_customers_dataset.csv\n",
    "df_olist_customer = pd.read_csv(\"./e-commerce/datasets/brazilian-ecommerce/olist_customers_dataset.csv\")\n",
    "df_olist_customer.head()"
   ]
  },
  {
   "cell_type": "code",
   "execution_count": null,
   "metadata": {},
   "outputs": [],
   "source": [
    "data_base = pd.merge(data_base, df_olist_customer[[\"customer_id\", \"customer_city\", \"customer_state\", \"customer_zip_code_prefix\"]], on= \"customer_id\", how=\"left\")\n",
    "data_base.head()"
   ]
  },
  {
   "cell_type": "code",
   "execution_count": null,
   "metadata": {},
   "outputs": [],
   "source": [
    "#DataSet Brazilian Ecommerce\n",
    "# 04- olist_geolocation_dataset.csv\n",
    "df_olist_geo = pd.read_csv(\"./e-commerce/datasets/brazilian-ecommerce/olist_geolocation_dataset.csv\")\n",
    "df_olist_geo.head()"
   ]
  },
  {
   "cell_type": "code",
   "execution_count": null,
   "metadata": {
    "scrolled": true
   },
   "outputs": [],
   "source": [
    "#data_base = pd.merge(data_base, df_olist_geo[[\"geolocation_zip_code_prefix\", \"geolocation_lat\", \"geolocation_lng\"]], left_on=\"customer_zip_code_prefix\", right_on=\"geolocation_zip_code_prefix\", how=\"left\")\n",
    "#data_base.head()"
   ]
  },
  {
   "cell_type": "code",
   "execution_count": null,
   "metadata": {},
   "outputs": [],
   "source": [
    "#DataSet Brazilian Ecommerce\n",
    "# 09- olist_products_dataset.csv\n",
    "df_olist_products = pd.read_csv(\"./e-commerce/datasets/brazilian-ecommerce/olist_products_dataset.csv\")\n",
    "df_olist_products.head()"
   ]
  },
  {
   "cell_type": "code",
   "execution_count": null,
   "metadata": {},
   "outputs": [],
   "source": [
    "data_base = pd.merge(data_base, df_olist_products[[\"product_id\", \"product_category_name\", \"product_weight_g\", \"product_length_cm\", \"product_height_cm\", \"product_width_cm\"]], on= \"product_id\", how=\"left\")\n",
    "data_base.head()"
   ]
  },
  {
   "cell_type": "code",
   "execution_count": null,
   "metadata": {},
   "outputs": [],
   "source": [
    "data_base[\"order_delivered_carrier_date\"] = pd.to_datetime(data_base['order_delivered_carrier_date'])\n",
    "data_base['order_delivered_customer_date'] = pd.to_datetime(data_base['order_delivered_customer_date'])\n",
    "data_base['order_estimated_delivery_date'] = pd.to_datetime(data_base['order_estimated_delivery_date'])\n",
    "data_base['order_approved_at'] = pd.to_datetime(data_base['order_approved_at'])\n",
    "data_base['order_purchase_timestamp'] = pd.to_datetime(data_base['order_purchase_timestamp'])\n",
    "data_base[\"delivery_time_days\"]= (data_base['order_delivered_customer_date']- data_base['order_delivered_carrier_date']).dt.days\n",
    "data_base['order_purchase_timestamp'] = pd.to_datetime(data_base['order_purchase_timestamp'])\n",
    "data_base[\"year_purchase\"]= data_base[\"order_purchase_timestamp\"].dt.year"
   ]
  },
  {
   "cell_type": "code",
   "execution_count": null,
   "metadata": {},
   "outputs": [],
   "source": [
    "data_base = data_base[data_base[\"delivery_time_days\"].isnull()== False]"
   ]
  },
  {
   "cell_type": "code",
   "execution_count": null,
   "metadata": {
    "scrolled": false
   },
   "outputs": [],
   "source": [
    "plt.figure(figsize=(16,6))\n",
    "graph = sns.barplot(data=data_base[\"customer_city\"].value_counts()[:10].reset_index(), x=\"index\", y=\"customer_city\")\n",
    "graph.set(xlabel= \"City\", ylabel=\"Products Delivered\", title= \"Top-10 Cities\")\n",
    "plt.show();"
   ]
  },
  {
   "cell_type": "code",
   "execution_count": null,
   "metadata": {
    "scrolled": false
   },
   "outputs": [],
   "source": [
    "#Replace Barplot with Map!\n",
    "plt.figure(figsize=(8,4))\n",
    "graph = sns.barplot(data=data_base[\"customer_state\"].value_counts()[:10].reset_index(), x=\"index\", y=\"customer_state\")\n",
    "graph.set(xlabel= \"States\", ylabel=\"Products Delivered\", title= \"Top-10 States\")\n",
    "plt.show();"
   ]
  },
  {
   "cell_type": "code",
   "execution_count": null,
   "metadata": {
    "scrolled": true
   },
   "outputs": [],
   "source": [
    "graph1 = data_base[\"price\"]\n",
    "graph2 = np.log(data_base[\"price\"])\n",
    "\n",
    "fig, (ax1, ax2) = plt.subplots(1,2);\n",
    "\n",
    "ax1.hist(graph1, bins=100)\n",
    "ax1.set_title(\"Price Distribution\")\n",
    "\n",
    "ax2.hist(graph2, bins=100)\n",
    "ax2.set_title(\"Normalized Price Distribution\")\n",
    "\n",
    "plt.tight_layout();"
   ]
  },
  {
   "cell_type": "code",
   "execution_count": null,
   "metadata": {},
   "outputs": [],
   "source": [
    "categories = data_base.groupby(\"product_category_name\")[\"price\"].size().sort_values(ascending=False)[:10].reset_index()[\"product_category_name\"]\n",
    "\n",
    "plt.figure(figsize=(20, 6))\n",
    "graph = sns.boxplot(y=data_base[data_base[\"product_category_name\"].isin(categories)][\"price\"], x=data_base[data_base[\"product_category_name\"].isin(categories)][\"product_category_name\"])\n",
    "graph.set(yscale=\"log\", title = \"Price Distribution By Product Category\");"
   ]
  },
  {
   "cell_type": "code",
   "execution_count": null,
   "metadata": {},
   "outputs": [],
   "source": [
    "data_base.groupby(\"product_category_name\")[\"price\"].size().sort_values(ascending=False)\n"
   ]
  }
 ],
 "metadata": {
  "kernelspec": {
   "display_name": "Python 3",
   "language": "python",
   "name": "python3"
  },
  "language_info": {
   "codemirror_mode": {
    "name": "ipython",
    "version": 3
   },
   "file_extension": ".py",
   "mimetype": "text/x-python",
   "name": "python",
   "nbconvert_exporter": "python",
   "pygments_lexer": "ipython3",
   "version": "3.6.7"
  }
 },
 "nbformat": 4,
 "nbformat_minor": 4
}
